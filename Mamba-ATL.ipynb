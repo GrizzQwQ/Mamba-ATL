{
 "cells": [
  {
   "cell_type": "code",
   "execution_count": 2,
   "id": "323182db",
   "metadata": {},
   "outputs": [
    {
     "name": "stdout",
     "output_type": "stream",
     "text": [
      "Python: 3.10.18 | packaged by conda-forge | (main, Jun  4 2025, 14:42:04) [MSC v.1943 64 bit (AMD64)]\n",
      "Executable: e:\\Anaconda\\envs\\tf\\python.exe\n",
      "User site: C:\\Users\\Zhongrui Ma\\AppData\\Roaming\\Python\\Python310\\site-packages\n",
      "matplotlib loader: None\n",
      "pip -> pip 25.1 from e:\\Anaconda\\envs\\tf\\lib\\site-packages\\pip (python 3.10)\n"
     ]
    }
   ],
   "source": [
    "import sys, site, pkgutil, subprocess\n",
    "print(\"Python:\", sys.version)\n",
    "print(\"Executable:\", sys.executable)\n",
    "print(\"User site:\", site.getusersitepackages())\n",
    "print(\"matplotlib loader:\", pkgutil.find_loader(\"matplotlib\"))\n",
    "print(\"pip ->\", subprocess.check_output([sys.executable, \"-m\", \"pip\", \"--version\"]).decode().strip())\n"
   ]
  },
  {
   "cell_type": "code",
   "execution_count": 1,
   "id": "6d764ae5",
   "metadata": {},
   "outputs": [
    {
     "ename": "ModuleNotFoundError",
     "evalue": "No module named 'matplotlib'",
     "output_type": "error",
     "traceback": [
      "\u001b[1;31m---------------------------------------------------------------------------\u001b[0m",
      "\u001b[1;31mModuleNotFoundError\u001b[0m                       Traceback (most recent call last)",
      "Cell \u001b[1;32mIn[1], line 1\u001b[0m\n\u001b[1;32m----> 1\u001b[0m \u001b[38;5;28;01mimport\u001b[39;00m\u001b[38;5;250m \u001b[39m\u001b[38;5;21;01mmatplotlib\u001b[39;00m\u001b[38;5;21;01m.\u001b[39;00m\u001b[38;5;21;01mpyplot\u001b[39;00m\u001b[38;5;250m \u001b[39m\u001b[38;5;28;01mas\u001b[39;00m\u001b[38;5;250m \u001b[39m\u001b[38;5;21;01mplt\u001b[39;00m\n\u001b[0;32m      2\u001b[0m \u001b[38;5;28;01mimport\u001b[39;00m\u001b[38;5;250m \u001b[39m\u001b[38;5;21;01mtime\u001b[39;00m\n\u001b[0;32m      3\u001b[0m \u001b[38;5;28;01mimport\u001b[39;00m\u001b[38;5;250m \u001b[39m\u001b[38;5;21;01mwarnings\u001b[39;00m\n",
      "\u001b[1;31mModuleNotFoundError\u001b[0m: No module named 'matplotlib'"
     ]
    }
   ],
   "source": [
    "import matplotlib.pyplot as plt\n",
    "import time\n",
    "import warnings\n",
    "import numpy as np\n",
    "import os\n",
    "import scipy.io as sio\n",
    "import seaborn as sns\n",
    "import pandas as pd\n",
    "from operator import truediv\n",
    "import spectral\n",
    "from sklearn.manifold import TSNE\n",
    "from sklearn.decomposition import (IncrementalPCA, PCA)\n",
    "from sklearn.metrics import (accuracy_score, classification_report,\n",
    "                             cohen_kappa_score, confusion_matrix)\n",
    "from sklearn.model_selection import train_test_split\n",
    "import keras\n",
    "import tensorflow as tf\n",
    "from tensorflow.python.framework.convert_to_constants import convert_variables_to_constants_v2\n",
    "from tensorflow.keras.layers import Dense, Dropout, Activation, Reshape, Concatenate\n",
    "from tensorflow.keras.models import Sequential, Model\n",
    "from keras.losses import categorical_crossentropy\n",
    "from keras.utils import to_categorical\n",
    "from keras.optimizers import legacy\n",
    "from tensorflow.keras.optimizers import Adam\n",
    "from keras.optimizers import Adam"
   ]
  },
  {
   "cell_type": "code",
   "execution_count": null,
   "id": "afcec010",
   "metadata": {},
   "outputs": [],
   "source": []
  }
 ],
 "metadata": {
  "kernelspec": {
   "display_name": "tf",
   "language": "python",
   "name": "python3"
  },
  "language_info": {
   "codemirror_mode": {
    "name": "ipython",
    "version": 3
   },
   "file_extension": ".py",
   "mimetype": "text/x-python",
   "name": "python",
   "nbconvert_exporter": "python",
   "pygments_lexer": "ipython3",
   "version": "3.10.18"
  }
 },
 "nbformat": 4,
 "nbformat_minor": 5
}
